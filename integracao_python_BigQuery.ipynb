{
 "cells": [
  {
   "cell_type": "code",
   "execution_count": 7,
   "id": "808bbd76",
   "metadata": {},
   "outputs": [],
   "source": [
    "caminho_credencial = \"/Users/victorsabino36/Documents/projetos_dev/credenciais/bigquery_cre.json\""
   ]
  },
  {
   "cell_type": "code",
   "execution_count": null,
   "id": "a6209206-07df-4179-9ef0-37729b2190f4",
   "metadata": {},
   "outputs": [
    {
     "name": "stdout",
     "output_type": "stream",
     "text": [
      "                         primary_type\n",
      "0                               ARSON\n",
      "1                             ASSAULT\n",
      "2                             BATTERY\n",
      "3                            BURGLARY\n",
      "4   CONCEALED CARRY LICENSE VIOLATION\n",
      "5                 CRIM SEXUAL ASSAULT\n",
      "6                     CRIMINAL DAMAGE\n",
      "7             CRIMINAL SEXUAL ASSAULT\n",
      "8                   CRIMINAL TRESPASS\n",
      "9                  DECEPTIVE PRACTICE\n",
      "10                  DOMESTIC VIOLENCE\n",
      "11                           GAMBLING\n",
      "12                           HOMICIDE\n",
      "13                  HUMAN TRAFFICKING\n",
      "14   INTERFERENCE WITH PUBLIC OFFICER\n",
      "15                       INTIMIDATION\n",
      "16                         KIDNAPPING\n",
      "17               LIQUOR LAW VIOLATION\n",
      "18                MOTOR VEHICLE THEFT\n",
      "19                          NARCOTICS\n",
      "20                     NON - CRIMINAL\n",
      "21                       NON-CRIMINAL\n",
      "22   NON-CRIMINAL (SUBJECT SPECIFIED)\n",
      "23                          OBSCENITY\n",
      "24         OFFENSE INVOLVING CHILDREN\n",
      "25           OTHER NARCOTIC VIOLATION\n",
      "26                      OTHER OFFENSE\n",
      "27                       PROSTITUTION\n",
      "28                   PUBLIC INDECENCY\n",
      "29             PUBLIC PEACE VIOLATION\n",
      "30                          RITUALISM\n",
      "31                            ROBBERY\n",
      "32                        SEX OFFENSE\n",
      "33                           STALKING\n",
      "34                              THEFT\n",
      "35                  WEAPONS VIOLATION\n"
     ]
    }
   ],
   "source": [
    "import pandas as pd\n",
    "from google.cloud import bigquery\n",
    "\n",
    "# Configuração das credenciais (substitua pelo seu caminho)\n",
    "import os\n",
    "os.environ[\"GOOGLE_APPLICATION_CREDENTIALS\"] = caminho_credencial\n",
    "\n",
    "try:\n",
    "    # Cria o cliente BigQuery\n",
    "    client = bigquery.Client()\n",
    "\n",
    "    # Define a consulta\n",
    "    query = \"\"\"\n",
    "    SELECT DISTINCT primary_type, COUNT(*) AS total_casos\n",
    "    FROM `bigquery-public-data.chicago_crime.crime`\n",
    "    GROUP BY primary_type\n",
    "    ORDER BY total_casos DESC\n",
    "    LIMIT 20\n",
    "    \"\"\"\n",
    "    \n",
    "    # Executa a consulta e carrega os resultados em um DataFrame do Pandas\n",
    "    df = client.query(query).to_dataframe()\n",
    "    print(df)\n",
    "except Exception as e:\n",
    "    print(f\"Erro: {e}\")"
   ]
  },
  {
   "cell_type": "code",
   "execution_count": 11,
   "id": "4d4b5457-ae25-42b8-9fb7-9acff64addb8",
   "metadata": {},
   "outputs": [
    {
     "data": {
      "text/html": [
       "<div>\n",
       "<style scoped>\n",
       "    .dataframe tbody tr th:only-of-type {\n",
       "        vertical-align: middle;\n",
       "    }\n",
       "\n",
       "    .dataframe tbody tr th {\n",
       "        vertical-align: top;\n",
       "    }\n",
       "\n",
       "    .dataframe thead th {\n",
       "        text-align: right;\n",
       "    }\n",
       "</style>\n",
       "<table border=\"1\" class=\"dataframe\">\n",
       "  <thead>\n",
       "    <tr style=\"text-align: right;\">\n",
       "      <th></th>\n",
       "      <th>primary_type</th>\n",
       "    </tr>\n",
       "  </thead>\n",
       "  <tbody>\n",
       "    <tr>\n",
       "      <th>0</th>\n",
       "      <td>ARSON</td>\n",
       "    </tr>\n",
       "    <tr>\n",
       "      <th>1</th>\n",
       "      <td>ASSAULT</td>\n",
       "    </tr>\n",
       "    <tr>\n",
       "      <th>2</th>\n",
       "      <td>BATTERY</td>\n",
       "    </tr>\n",
       "    <tr>\n",
       "      <th>3</th>\n",
       "      <td>BURGLARY</td>\n",
       "    </tr>\n",
       "    <tr>\n",
       "      <th>4</th>\n",
       "      <td>CONCEALED CARRY LICENSE VIOLATION</td>\n",
       "    </tr>\n",
       "  </tbody>\n",
       "</table>\n",
       "</div>"
      ],
      "text/plain": [
       "                        primary_type\n",
       "0                              ARSON\n",
       "1                            ASSAULT\n",
       "2                            BATTERY\n",
       "3                           BURGLARY\n",
       "4  CONCEALED CARRY LICENSE VIOLATION"
      ]
     },
     "execution_count": 11,
     "metadata": {},
     "output_type": "execute_result"
    }
   ],
   "source": [
    "df.head()"
   ]
  },
  {
   "cell_type": "code",
   "execution_count": null,
   "id": "8424ffd4",
   "metadata": {},
   "outputs": [],
   "source": []
  }
 ],
 "metadata": {
  "kernelspec": {
   "display_name": "ambiente_consultas",
   "language": "python",
   "name": "python3"
  },
  "language_info": {
   "codemirror_mode": {
    "name": "ipython",
    "version": 3
   },
   "file_extension": ".py",
   "mimetype": "text/x-python",
   "name": "python",
   "nbconvert_exporter": "python",
   "pygments_lexer": "ipython3",
   "version": "3.12.5"
  }
 },
 "nbformat": 4,
 "nbformat_minor": 5
}
